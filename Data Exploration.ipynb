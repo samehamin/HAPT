{
 "cells": [
  {
   "cell_type": "markdown",
   "metadata": {},
   "source": [
    "## Importings Libs"
   ]
  },
  {
   "cell_type": "code",
   "execution_count": 21,
   "metadata": {},
   "outputs": [],
   "source": [
    "# Import default_timer to compute durations\n",
    "from timeit import default_timer as timer\n",
    "start_time=timer()"
   ]
  },
  {
   "cell_type": "code",
   "execution_count": 22,
   "metadata": {},
   "outputs": [],
   "source": [
    "# Importing numpy \n",
    "import numpy as np\n",
    "\n",
    "# Importing Scipy \n",
    "import scipy as sp\n",
    "\n",
    "# Importing Pandas Library \n",
    "import pandas as pd\n",
    "\n",
    "# import glob function to scrap files path\n",
    "from glob import glob\n",
    "\n",
    "# import display() for better visualitions of DataFrames and arrays\n",
    "from IPython.display import display\n",
    "\n",
    "# import pyplot for plotting\n",
    "import matplotlib.pyplot as plt\n",
    "\n",
    "plt.style.use('bmh') # for better plots"
   ]
  },
  {
   "cell_type": "code",
   "execution_count": 30,
   "metadata": {},
   "outputs": [],
   "source": [
    "Raw_data_paths = sorted(glob(\"HAPT Data Set/RawData/*\"))"
   ]
  },
  {
   "cell_type": "code",
   "execution_count": 31,
   "metadata": {},
   "outputs": [
    {
     "name": "stdout",
     "output_type": "stream",
     "text": [
      "RawData folder contains in total 123 file \n",
      "The first 61 are Acceleration files:\n",
      "The second 61 are Gyroscope files:\n",
      "The last file is a labels file\n",
      "labels file path is: HAPT Data Set/RawData/labels.txt\n"
     ]
    }
   ],
   "source": [
    "################# Just to verify if all paths were scraped #################\n",
    "\n",
    "# Selecting acc file paths only\n",
    "Raw_acc_paths=Raw_data_paths[0:61]\n",
    "\n",
    "# Selecting gyro file paths only\n",
    "Raw_gyro_paths=Raw_data_paths[61:122]\n",
    "\n",
    "# printing info related to acc and gyro files\n",
    "print ((\"RawData folder contains in total {:d} file \").format(len(Raw_data_paths)))\n",
    "print ((\"The first {:d} are Acceleration files:\").format(len(Raw_acc_paths)))\n",
    "print ((\"The second {:d} are Gyroscope files:\").format(len(Raw_gyro_paths)))\n",
    "print (\"The last file is a labels file\")\n",
    "\n",
    "# printing 'labels.txt' path\n",
    "print (\"labels file path is:\",Raw_data_paths[122])"
   ]
  },
  {
   "cell_type": "markdown",
   "metadata": {},
   "source": [
    "## Define import acc and gyro files function"
   ]
  },
  {
   "cell_type": "code",
   "execution_count": 32,
   "metadata": {},
   "outputs": [],
   "source": [
    "def import_raw_signals(file_path,columns):\n",
    "    ######################################################################################\n",
    "    # Inputs:                                                                            #\n",
    "    #   file_path: A string contains the path of the \"acc\" or \"gyro\" txt file            #\n",
    "    #   columns: A list of strings contains the column names in order.                   #\n",
    "    # Outputs:                                                                           #\n",
    "    #   dataframe: A pandas Dataframe contains \"acc\" or \"gyro\" data in a float format    #\n",
    "    #             with columns names.                                                    #\n",
    "    ######################################################################################\n",
    "\n",
    "\n",
    "    # open the txt file\n",
    "    opened_file =open(file_path,'r')\n",
    "\n",
    "    # Create a list\n",
    "    opened_file_list=[]\n",
    "    \n",
    "    # loop over each line in the opened_file\n",
    "    # convert each element from txt format to float \n",
    "    # store each raw in a list\n",
    "    for line in opened_file:\n",
    "        opened_file_list.append([float(element) for element in line.split()])\n",
    "\n",
    "    # convert the list of lists into 2D numpy array(computationally efficient)\n",
    "    data=np.array(opened_file_list)\n",
    "\n",
    "\n",
    "    # Create a pandas dataframe from this 2D numpy array with column names\n",
    "    data_frame=pd.DataFrame(data=data,columns=columns)\n",
    "\n",
    "    # return the data frame\n",
    "    return data_frame"
   ]
  },
  {
   "cell_type": "markdown",
   "metadata": {},
   "source": [
    "## Importing Files and Storing DataFrames in raw_dic"
   ]
  },
  {
   "cell_type": "code",
   "execution_count": 33,
   "metadata": {},
   "outputs": [],
   "source": [
    "# creating an empty dictionary where all dataframes will be stored\n",
    "raw_dic={}\n",
    "\n",
    "\n",
    "# creating list contains columns names of an acc file\n",
    "raw_acc_columns=['acc_X','acc_Y','acc_Z']\n",
    "\n",
    "# creating list contains gyro files columns names\n",
    "raw_gyro_columns=['gyro_X','gyro_Y','gyro_Z']\n",
    "\n",
    "# loop for to convert  each \"acc file\" into data frame of floats and store it in a dictionnary.\n",
    "for path_index in range(0,61):\n",
    "        \n",
    "        # extracting the file name only and use it as key:[expXX_userXX] without \"acc\" or \"gyro\"\n",
    "        key= Raw_data_paths[path_index][-16:-4]\n",
    "        \n",
    "        # Applying the function defined above to one acc_file and store the output in a DataFrame\n",
    "        raw_acc_data_frame=import_raw_signals(Raw_data_paths[path_index],raw_acc_columns)\n",
    "        \n",
    "        # By shifting the path_index by 61 we find the index of the gyro file related to same experiment_ID\n",
    "        # Applying the function defined above to one gyro_file and store the output in a DataFrame\n",
    "        raw_gyro_data_frame=import_raw_signals(Raw_data_paths[path_index+61],raw_gyro_columns)\n",
    "        \n",
    "        # concatenate acc_df and gyro_df in one DataFrame\n",
    "        raw_signals_data_frame=pd.concat([raw_acc_data_frame, raw_gyro_data_frame], axis=1)\n",
    "        \n",
    "        # Store this new DataFrame in a raw_dic , with the key extracted above\n",
    "        raw_dic[key]=raw_signals_data_frame"
   ]
  },
  {
   "cell_type": "code",
   "execution_count": 34,
   "metadata": {},
   "outputs": [
    {
     "name": "stdout",
     "output_type": "stream",
     "text": [
      "raw_dic contains 61 DataFrame\n"
     ]
    },
    {
     "data": {
      "text/html": [
       "<div>\n",
       "<style scoped>\n",
       "    .dataframe tbody tr th:only-of-type {\n",
       "        vertical-align: middle;\n",
       "    }\n",
       "\n",
       "    .dataframe tbody tr th {\n",
       "        vertical-align: top;\n",
       "    }\n",
       "\n",
       "    .dataframe thead th {\n",
       "        text-align: right;\n",
       "    }\n",
       "</style>\n",
       "<table border=\"1\" class=\"dataframe\">\n",
       "  <thead>\n",
       "    <tr style=\"text-align: right;\">\n",
       "      <th></th>\n",
       "      <th>acc_X</th>\n",
       "      <th>acc_Y</th>\n",
       "      <th>acc_Z</th>\n",
       "      <th>gyro_X</th>\n",
       "      <th>gyro_Y</th>\n",
       "      <th>gyro_Z</th>\n",
       "    </tr>\n",
       "  </thead>\n",
       "  <tbody>\n",
       "    <tr>\n",
       "      <th>0</th>\n",
       "      <td>0.918056</td>\n",
       "      <td>-0.112500</td>\n",
       "      <td>0.509722</td>\n",
       "      <td>-0.054978</td>\n",
       "      <td>-0.069639</td>\n",
       "      <td>-0.030849</td>\n",
       "    </tr>\n",
       "    <tr>\n",
       "      <th>1</th>\n",
       "      <td>0.911111</td>\n",
       "      <td>-0.093056</td>\n",
       "      <td>0.537500</td>\n",
       "      <td>-0.012523</td>\n",
       "      <td>0.019242</td>\n",
       "      <td>-0.038485</td>\n",
       "    </tr>\n",
       "    <tr>\n",
       "      <th>2</th>\n",
       "      <td>0.881944</td>\n",
       "      <td>-0.086111</td>\n",
       "      <td>0.513889</td>\n",
       "      <td>-0.023518</td>\n",
       "      <td>0.276417</td>\n",
       "      <td>0.006414</td>\n",
       "    </tr>\n",
       "  </tbody>\n",
       "</table>\n",
       "</div>"
      ],
      "text/plain": [
       "      acc_X     acc_Y     acc_Z    gyro_X    gyro_Y    gyro_Z\n",
       "0  0.918056 -0.112500  0.509722 -0.054978 -0.069639 -0.030849\n",
       "1  0.911111 -0.093056  0.537500 -0.012523  0.019242 -0.038485\n",
       "2  0.881944 -0.086111  0.513889 -0.023518  0.276417  0.006414"
      ]
     },
     "metadata": {},
     "output_type": "display_data"
    }
   ],
   "source": [
    "# raw_dic is a dictionary contains 61 combined DF (acc_df and gyro_df)\n",
    "print('raw_dic contains %d DataFrame' % len(raw_dic))\n",
    "\n",
    "# print the first 3 rows of dataframe exp01_user01\n",
    "display(raw_dic['exp01_user01'].head(3))"
   ]
  },
  {
   "cell_type": "markdown",
   "metadata": {},
   "source": [
    "## Define Import_labels_file function"
   ]
  },
  {
   "cell_type": "code",
   "execution_count": 35,
   "metadata": {},
   "outputs": [],
   "source": [
    "def import_labels_file(path,columns):\n",
    "    ######################################################################################\n",
    "    # Inputs:                                                                            #\n",
    "    #   path: A string contains the path of \"labels.txt\"                                 #\n",
    "    #   columns: A list of strings contains the columns names in order.                  #\n",
    "    # Outputs:                                                                           #\n",
    "    #   dataframe: A pandas Dataframe contains labels  data in int format                #\n",
    "    #             with columns names.                                                    #\n",
    "    ######################################################################################\n",
    "    \n",
    "    \n",
    "    # open the txt file\n",
    "    labels_file =open(path,'r')\n",
    "    \n",
    "    # creating a list \n",
    "    labels_file_list=[]\n",
    "    \n",
    "    \n",
    "    #Store each row in a list ,convert its list elements to int type\n",
    "    for line in labels_file:\n",
    "        labels_file_list.append([int(element) for element in line.split()])\n",
    "    # convert the list of lists into 2D numpy array \n",
    "    data=np.array(labels_file_list)\n",
    "    \n",
    "    # Create a pandas dataframe from this 2D numpy array with column names \n",
    "    data_frame=pd.DataFrame(data=data,columns=columns)\n",
    "    \n",
    "    # returning the labels dataframe \n",
    "    return data_frame"
   ]
  },
  {
   "cell_type": "markdown",
   "metadata": {},
   "source": [
    "## Apply import_labels_file"
   ]
  },
  {
   "cell_type": "code",
   "execution_count": 37,
   "metadata": {},
   "outputs": [],
   "source": [
    "#################################\n",
    "# creating a list contains columns names of \"labels.txt\" in order\n",
    "raw_labels_columns=['experiment_number_ID','user_number_ID','activity_number_ID','Label_start_point','Label_end_point']\n",
    "\n",
    "# The path of \"labels.txt\" is last element in the list called \"Raw_data_paths\"\n",
    "labels_path=Raw_data_paths[-1]\n",
    "\n",
    "# apply the function defined above to labels.txt \n",
    "# store the output  in a dataframe \n",
    "Labels_Data_Frame=import_labels_file(labels_path,raw_labels_columns)"
   ]
  },
  {
   "cell_type": "code",
   "execution_count": 38,
   "metadata": {},
   "outputs": [
    {
     "name": "stdout",
     "output_type": "stream",
     "text": [
      "The first 3 rows of  Labels_Data_Frame:\n"
     ]
    },
    {
     "data": {
      "text/html": [
       "<div>\n",
       "<style scoped>\n",
       "    .dataframe tbody tr th:only-of-type {\n",
       "        vertical-align: middle;\n",
       "    }\n",
       "\n",
       "    .dataframe tbody tr th {\n",
       "        vertical-align: top;\n",
       "    }\n",
       "\n",
       "    .dataframe thead th {\n",
       "        text-align: right;\n",
       "    }\n",
       "</style>\n",
       "<table border=\"1\" class=\"dataframe\">\n",
       "  <thead>\n",
       "    <tr style=\"text-align: right;\">\n",
       "      <th></th>\n",
       "      <th>experiment_number_ID</th>\n",
       "      <th>user_number_ID</th>\n",
       "      <th>activity_number_ID</th>\n",
       "      <th>Label_start_point</th>\n",
       "      <th>Label_end_point</th>\n",
       "    </tr>\n",
       "  </thead>\n",
       "  <tbody>\n",
       "    <tr>\n",
       "      <th>0</th>\n",
       "      <td>1</td>\n",
       "      <td>1</td>\n",
       "      <td>5</td>\n",
       "      <td>250</td>\n",
       "      <td>1232</td>\n",
       "    </tr>\n",
       "    <tr>\n",
       "      <th>1</th>\n",
       "      <td>1</td>\n",
       "      <td>1</td>\n",
       "      <td>7</td>\n",
       "      <td>1233</td>\n",
       "      <td>1392</td>\n",
       "    </tr>\n",
       "    <tr>\n",
       "      <th>2</th>\n",
       "      <td>1</td>\n",
       "      <td>1</td>\n",
       "      <td>4</td>\n",
       "      <td>1393</td>\n",
       "      <td>2194</td>\n",
       "    </tr>\n",
       "  </tbody>\n",
       "</table>\n",
       "</div>"
      ],
      "text/plain": [
       "   experiment_number_ID  user_number_ID  activity_number_ID  \\\n",
       "0                     1               1                   5   \n",
       "1                     1               1                   7   \n",
       "2                     1               1                   4   \n",
       "\n",
       "   Label_start_point  Label_end_point  \n",
       "0                250             1232  \n",
       "1               1233             1392  \n",
       "2               1393             2194  "
      ]
     },
     "metadata": {},
     "output_type": "display_data"
    },
    {
     "name": "stdout",
     "output_type": "stream",
     "text": [
      "(1214, 5)\n"
     ]
    }
   ],
   "source": [
    "# The first 3 rows of labels dataframe\n",
    "print (\"The first 3 rows of  Labels_Data_Frame:\" )\n",
    "display(Labels_Data_Frame.head(3))\n",
    "print(Labels_Data_Frame.shape)"
   ]
  },
  {
   "cell_type": "code",
   "execution_count": 47,
   "metadata": {},
   "outputs": [
    {
     "data": {
      "text/html": [
       "<div>\n",
       "<style scoped>\n",
       "    .dataframe tbody tr th:only-of-type {\n",
       "        vertical-align: middle;\n",
       "    }\n",
       "\n",
       "    .dataframe tbody tr th {\n",
       "        vertical-align: top;\n",
       "    }\n",
       "\n",
       "    .dataframe thead th {\n",
       "        text-align: right;\n",
       "    }\n",
       "</style>\n",
       "<table border=\"1\" class=\"dataframe\">\n",
       "  <thead>\n",
       "    <tr style=\"text-align: right;\">\n",
       "      <th></th>\n",
       "      <th>experiment_number_ID</th>\n",
       "      <th>user_number_ID</th>\n",
       "      <th>activity_number_ID</th>\n",
       "      <th>Label_start_point</th>\n",
       "      <th>Label_end_point</th>\n",
       "    </tr>\n",
       "  </thead>\n",
       "  <tbody>\n",
       "    <tr>\n",
       "      <th>count</th>\n",
       "      <td>1214.000000</td>\n",
       "      <td>1214.000000</td>\n",
       "      <td>1214.000000</td>\n",
       "      <td>1214.000000</td>\n",
       "      <td>1214.000000</td>\n",
       "    </tr>\n",
       "    <tr>\n",
       "      <th>mean</th>\n",
       "      <td>30.945634</td>\n",
       "      <td>15.390445</td>\n",
       "      <td>5.140857</td>\n",
       "      <td>7959.962932</td>\n",
       "      <td>8630.803130</td>\n",
       "    </tr>\n",
       "    <tr>\n",
       "      <th>std</th>\n",
       "      <td>17.759184</td>\n",
       "      <td>8.682592</td>\n",
       "      <td>3.251851</td>\n",
       "      <td>5161.664485</td>\n",
       "      <td>5154.525121</td>\n",
       "    </tr>\n",
       "    <tr>\n",
       "      <th>min</th>\n",
       "      <td>1.000000</td>\n",
       "      <td>1.000000</td>\n",
       "      <td>1.000000</td>\n",
       "      <td>136.000000</td>\n",
       "      <td>1116.000000</td>\n",
       "    </tr>\n",
       "    <tr>\n",
       "      <th>25%</th>\n",
       "      <td>15.000000</td>\n",
       "      <td>8.000000</td>\n",
       "      <td>2.000000</td>\n",
       "      <td>3566.250000</td>\n",
       "      <td>4284.000000</td>\n",
       "    </tr>\n",
       "    <tr>\n",
       "      <th>50%</th>\n",
       "      <td>31.000000</td>\n",
       "      <td>15.000000</td>\n",
       "      <td>4.000000</td>\n",
       "      <td>6943.000000</td>\n",
       "      <td>7522.000000</td>\n",
       "    </tr>\n",
       "    <tr>\n",
       "      <th>75%</th>\n",
       "      <td>46.000000</td>\n",
       "      <td>23.000000</td>\n",
       "      <td>7.000000</td>\n",
       "      <td>12563.750000</td>\n",
       "      <td>13187.750000</td>\n",
       "    </tr>\n",
       "    <tr>\n",
       "      <th>max</th>\n",
       "      <td>61.000000</td>\n",
       "      <td>30.000000</td>\n",
       "      <td>12.000000</td>\n",
       "      <td>21752.000000</td>\n",
       "      <td>22540.000000</td>\n",
       "    </tr>\n",
       "  </tbody>\n",
       "</table>\n",
       "</div>"
      ],
      "text/plain": [
       "       experiment_number_ID  user_number_ID  activity_number_ID  \\\n",
       "count           1214.000000     1214.000000         1214.000000   \n",
       "mean              30.945634       15.390445            5.140857   \n",
       "std               17.759184        8.682592            3.251851   \n",
       "min                1.000000        1.000000            1.000000   \n",
       "25%               15.000000        8.000000            2.000000   \n",
       "50%               31.000000       15.000000            4.000000   \n",
       "75%               46.000000       23.000000            7.000000   \n",
       "max               61.000000       30.000000           12.000000   \n",
       "\n",
       "       Label_start_point  Label_end_point  \n",
       "count        1214.000000      1214.000000  \n",
       "mean         7959.962932      8630.803130  \n",
       "std          5161.664485      5154.525121  \n",
       "min           136.000000      1116.000000  \n",
       "25%          3566.250000      4284.000000  \n",
       "50%          6943.000000      7522.000000  \n",
       "75%         12563.750000     13187.750000  \n",
       "max         21752.000000     22540.000000  "
      ]
     },
     "execution_count": 47,
     "metadata": {},
     "output_type": "execute_result"
    }
   ],
   "source": [
    "Labels_Data_Frame.describe()"
   ]
  },
  {
   "cell_type": "markdown",
   "metadata": {},
   "source": [
    "## Define Activity Labels Dic"
   ]
  },
  {
   "cell_type": "code",
   "execution_count": 39,
   "metadata": {},
   "outputs": [],
   "source": [
    "# Creating a dictionary for all types of activities\n",
    "# The first 6 activities are called Basic Activities as(BAs) 3 dynamic and 3 static\n",
    "# The last 6 activities are called Postural Transitions Activities as (PTAs)\n",
    "Acitivity_labels=AL={\n",
    "        1: 'WALKING', 2: 'WALKING_UPSTAIRS', 3: 'WALKING_DOWNSTAIRS', # 3 dynamic activities\n",
    "        4: 'SITTING', 5: 'STANDING', 6: 'LIYING', # 3 static activities\n",
    "        \n",
    "        7: 'STAND_TO_SIT',  8: 'SIT_TO_STAND',  9: 'SIT_TO_LIE', 10: 'LIE_TO_SIT', \n",
    "    11: 'STAND_TO_LIE', 12: 'LIE_TO_STAND',# 6 postural Transitions\n",
    "       }"
   ]
  },
  {
   "cell_type": "markdown",
   "metadata": {},
   "source": [
    "# General visualizations"
   ]
  },
  {
   "cell_type": "markdown",
   "metadata": {},
   "source": [
    "### Number of rows per experience"
   ]
  },
  {
   "cell_type": "code",
   "execution_count": 41,
   "metadata": {},
   "outputs": [],
   "source": [
    "# Each acc file and gyro file having the same exp_ID have also the same number of rows\n",
    "\n",
    "# a list contains the number of rows per dataframe \n",
    "rows_per_df=[len(raw_dic[key]) for key in sorted(raw_dic.keys())]\n",
    "\n",
    "# a list contains exp ids\n",
    "exp_ids=[i for i in range(1,62)]\n",
    "\n",
    "# useful row is row that was captured while the user was performing an activity\n",
    "# some rows in acc and gyro files are not associated to an activity id\n",
    "\n",
    "# list that will contain the number of useful rows per dataframe\n",
    "useful_rows_per_df=[]\n",
    "\n",
    "for i in range(1,62):# iterating over exp ids\n",
    "    # selecting start-end rows of each activity of the experiment\n",
    "    start_end_df= Labels_Data_Frame[Labels_Data_Frame['experiment_number_ID']==i][['Label_start_point','Label_end_point']]\n",
    "    # sum of start_labels and sum of end_labels\n",
    "    start_sum,end_sum=start_end_df.sum()\n",
    "    # number of rows useful rows in [exp i] dataframe\n",
    "    useful_rows_number=end_sum-start_sum+len(start_end_df)\n",
    "    # storing row numbers in a list\n",
    "    useful_rows_per_df.append(useful_rows_number)"
   ]
  },
  {
   "cell_type": "code",
   "execution_count": 42,
   "metadata": {},
   "outputs": [
    {
     "data": {
      "image/png": "[encoded data removed]",
      "text/plain": [
       "<Figure size 432x288 with 1 Axes>"
      ]
     },
     "metadata": {
      "needs_background": "light"
     },
     "output_type": "display_data"
    }
   ],
   "source": [
    "# visualizing row numbers per dataframe\n",
    "\n",
    "plt.bar(exp_ids,rows_per_df) # ploting the bar plot\n",
    "\n",
    "plt.xlabel('experience identifiers') # Set X axis info\n",
    "plt.ylabel('number of rows') # Set Y axis info\n",
    "plt.title('number of rows per experience') # Set the title of the bar plot\n",
    "plt.show() # Show the figure"
   ]
  },
  {
   "cell_type": "markdown",
   "metadata": {},
   "source": [
    "### Number of useful rows per experience (Only rows with experience or activity)"
   ]
  },
  {
   "cell_type": "code",
   "execution_count": 43,
   "metadata": {},
   "outputs": [
    {
     "data": {
      "image/png": "[encoded data removed]",
      "text/plain": [
       "<Figure size 432x288 with 1 Axes>"
      ]
     },
     "metadata": {
      "needs_background": "light"
     },
     "output_type": "display_data"
    }
   ],
   "source": [
    "# visualizing useful rows per dataframe\n",
    "plt.bar(exp_ids,useful_rows_per_df) # ploting the bar plot\n",
    "plt.xlabel('experience identifiers') # Set X axis info\n",
    "plt.ylabel('number of useful rows') # Set y axis info\n",
    "plt.title('number of useful rows per experience') # Set the title of the figure\n",
    "plt.show() # show the figure"
   ]
  },
  {
   "cell_type": "markdown",
   "metadata": {},
   "source": [
    "### Number of Rows per activity and Mean time per activity"
   ]
  },
  {
   "cell_type": "code",
   "execution_count": 44,
   "metadata": {},
   "outputs": [],
   "source": [
    "# A list will contain number of rows per activity\n",
    "rows_per_activity=[]\n",
    "\n",
    "# a list will contain the number of times each activity was performed in the protocol of all experiences\n",
    "count_act=[]\n",
    "\n",
    "for i in range(1,13):# iterating over activity ids\n",
    "    # a dataframe contains start and end labels for all experiences while users were performing the same activity\n",
    "    start_end_df =Labels_Data_Frame[Labels_Data_Frame['activity_number_ID']==i][['Label_start_point','Label_end_point']]\n",
    "    \n",
    "    # add to the list the number of times this activity was performed in all experiences\n",
    "    count_act.append(len(start_end_df))\n",
    "    \n",
    "    # start_sum is the sum of all start_label values in start_end_df\n",
    "    # end_sum is the sum of all end_label values in start_end_df\n",
    "    start_sum,end_sum=start_end_df.sum()\n",
    "    \n",
    "    # number of rows related to the activity\n",
    "    number_of_rows=end_sum-start_sum+len(start_end_df)\n",
    "    \n",
    "    # storing number of rows in a list\n",
    "    rows_per_activity.append(number_of_rows)\n",
    "\n",
    "\n",
    "# mean duration in seconds of each activity:\n",
    "time_per_activity=[rows_per_activity[i]/(float(50)*count_act[i]) for i in range(len(rows_per_activity))]\n",
    "\n",
    "# activity ids from 1 to 12\n",
    "activity_ids=[i for i in range(1,13)]"
   ]
  },
  {
   "cell_type": "code",
   "execution_count": 45,
   "metadata": {},
   "outputs": [
    {
     "data": {
      "image/png": "[encoded data removed]",
      "text/plain": [
       "<Figure size 432x288 with 1 Axes>"
      ]
     },
     "metadata": {
      "needs_background": "light"
     },
     "output_type": "display_data"
    }
   ],
   "source": [
    "# visualizing the number of rows per activity\n",
    "plt.bar(activity_ids,rows_per_activity) # plot bar's figure\n",
    "plt.xlabel('activity identifiers') # Set x axis info\n",
    "plt.ylabel('number of rows') # Set y axis info\n",
    "plt.title('number of rows per activity') # set the figure's title\n",
    "plt.show() # showing the figure"
   ]
  },
  {
   "cell_type": "markdown",
   "metadata": {},
   "source": [
    "### Mean time per activity"
   ]
  },
  {
   "cell_type": "code",
   "execution_count": 46,
   "metadata": {},
   "outputs": [
    {
     "data": {
      "image/png": "[encoded data removed]",
      "text/plain": [
       "<Figure size 432x288 with 1 Axes>"
      ]
     },
     "metadata": {
      "needs_background": "light"
     },
     "output_type": "display_data"
    }
   ],
   "source": [
    "plt.bar(activity_ids,time_per_activity)# plot bar's figure\n",
    "plt.xlabel('activity identifiers') # Set x axis info\n",
    "plt.ylabel('time in seconds') # Set y axis info\n",
    "plt.title('mean time associated to each activity ') # Set the figure's title\n",
    "plt.show() # showing the figure"
   ]
  },
  {
   "cell_type": "code",
   "execution_count": null,
   "metadata": {},
   "outputs": [],
   "source": []
  }
 ],
 "metadata": {
  "kernelspec": {
   "display_name": "Python 3",
   "language": "python",
   "name": "python3"
  },
  "language_info": {
   "codemirror_mode": {
    "name": "ipython",
    "version": 3
   },
   "file_extension": ".py",
   "mimetype": "text/x-python",
   "name": "python",
   "nbconvert_exporter": "python",
   "pygments_lexer": "ipython3",
   "version": "3.6.8"
  }
 },
 "nbformat": 4,
 "nbformat_minor": 2
}
